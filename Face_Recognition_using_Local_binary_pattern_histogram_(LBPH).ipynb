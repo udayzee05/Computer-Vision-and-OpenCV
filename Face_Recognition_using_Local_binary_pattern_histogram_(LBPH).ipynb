{
  "nbformat": 4,
  "nbformat_minor": 0,
  "metadata": {
    "colab": {
      "name": "Face Recognition using Local binary pattern histogram (LBPH).ipynb",
      "provenance": [],
      "machine_shape": "hm",
      "authorship_tag": "ABX9TyPrrywCNdgNU7REei2iodd7",
      "include_colab_link": true
    },
    "kernelspec": {
      "name": "python3",
      "display_name": "Python 3"
    },
    "language_info": {
      "name": "python"
    },
    "accelerator": "GPU"
  },
  "cells": [
    {
      "cell_type": "markdown",
      "metadata": {
        "id": "view-in-github",
        "colab_type": "text"
      },
      "source": [
        "<a href=\"https://colab.research.google.com/github/udayzee05/Computer-Vision-and-OpenCV/blob/main/Face_Recognition_using_Local_binary_pattern_histogram_(LBPH).ipynb\" target=\"_parent\"><img src=\"https://colab.research.google.com/assets/colab-badge.svg\" alt=\"Open In Colab\"/></a>"
      ]
    },
    {
      "cell_type": "code",
      "execution_count": null,
      "metadata": {
        "id": "NBxUAQ1fnO84"
      },
      "outputs": [],
      "source": [
        "from PIL import Image\n",
        "import cv2\n",
        "import numpy as np"
      ]
    },
    {
      "cell_type": "code",
      "source": [
        "from google.colab.patches import cv2_imshow\n",
        "from google.colab import drive\n",
        "drive.mount('/content/drive')"
      ],
      "metadata": {
        "colab": {
          "base_uri": "https://localhost:8080/"
        },
        "id": "-W3RShXPnnya",
        "outputId": "6cf39ca0-8dab-4df0-8b18-fd0184262239"
      },
      "execution_count": null,
      "outputs": [
        {
          "output_type": "stream",
          "name": "stdout",
          "text": [
            "Mounted at /content/drive\n"
          ]
        }
      ]
    },
    {
      "cell_type": "code",
      "source": [
        "# import data from zip file and extract data\n",
        "import zipfile\n",
        "path = '/content/drive/MyDrive/Computer Vision Masterclass/Datasets/yalefaces.zip'\n",
        "zip_object = zipfile.ZipFile(file = path, mode= 'r')\n",
        "zip_object.extractall('./')\n",
        "zip_object.close()"
      ],
      "metadata": {
        "id": "n5UmcU7cn614"
      },
      "execution_count": null,
      "outputs": []
    },
    {
      "cell_type": "markdown",
      "source": [
        "Preprocess Images\n"
      ],
      "metadata": {
        "id": "MAEj74J8o9Lo"
      }
    },
    {
      "cell_type": "code",
      "source": [
        "import os\n",
        "print(os.listdir('/content/yalefaces/train'))"
      ],
      "metadata": {
        "colab": {
          "base_uri": "https://localhost:8080/"
        },
        "id": "74yxPPNko_Kj",
        "outputId": "6f856ad0-cb51-45f6-8b9b-69e0955823b1"
      },
      "execution_count": null,
      "outputs": [
        {
          "output_type": "stream",
          "name": "stdout",
          "text": [
            "['subject01.noglasses.gif', 'subject10.glasses.gif', 'subject07.surprised.gif', 'subject05.centerlight.gif', 'subject01.normal.gif', 'subject09.noglasses.gif', 'subject09.wink.gif', 'subject10.surprised.gif', 'subject04.centerlight.gif', 'subject05.sad.gif', 'subject01.wink.gif', 'subject04.normal.gif', 'subject01.glasses.gif', 'subject05.leftlight.gif', 'subject13.noglasses.gif', 'subject10.normal.gif', 'subject09.sleepy.gif', 'subject03.rightlight.gif', 'subject14.happy.gif', 'subject02.wink.gif', 'subject05.happy.gif', 'subject04.happy.gif', 'subject13.normal.gif', 'subject06.wink.gif', 'subject05.noglasses.gif', 'subject12.wink.gif', 'subject07.rightlight.gif', 'subject10.noglasses.gif', 'subject03.normal.gif', 'subject10.rightlight.gif', 'subject11.wink.gif', 'subject13.centerlight.gif', 'subject08.sleepy.gif', 'subject10.sleepy.gif', 'subject10.wink.gif', 'subject15.glasses.gif', 'subject04.sleepy.gif', 'subject12.surprised.gif', 'subject11.surprised.gif', 'subject11.leftlight.gif', 'subject02.noglasses.gif', 'subject01.sad.gif', 'subject12.sad.gif', 'subject05.normal.gif', 'subject09.normal.gif', 'subject13.wink.gif', 'subject15.wink.gif', 'subject11.sleepy.gif', 'subject08.happy.gif', 'subject14.sleepy.gif', 'subject12.happy.gif', 'subject13.rightlight.gif', 'subject11.rightlight.gif', 'subject07.sad.gif', 'subject07.centerlight.gif', 'subject12.noglasses.gif', 'subject02.rightlight.gif', 'subject15.noglasses.gif', 'subject15.surprised.gif', 'subject07.normal.gif', 'subject11.centerlight.gif', 'subject07.wink.gif', 'subject10.happy.gif', 'subject06.sleepy.gif', 'subject02.glasses.gif', 'subject01.sleepy.gif', 'subject03.sleepy.gif', 'subject09.happy.gif', 'subject10.leftlight.gif', 'subject04.sad.gif', 'subject07.glasses.gif', 'subject05.wink.gif', 'subject14.wink.gif', 'subject15.sleepy.gif', 'subject14.centerlight.gif', 'subject13.surprised.gif', 'subject03.surprised.gif', 'subject12.sleepy.gif', 'subject02.sleepy.gif', 'subject14.noglasses.gif', 'subject09.leftlight.gif', 'subject01.surprised.gif', 'subject12.glasses.gif', 'subject04.rightlight.gif', 'subject05.glasses.gif', 'subject15.happy.gif', 'subject13.glasses.gif', 'subject08.wink.gif', 'subject03.wink.gif', 'subject06.surprised.gif', 'subject08.sad.gif', 'subject11.noglasses.gif', 'subject02.sad.gif', 'subject08.glasses.gif', 'subject15.normal.gif', 'subject13.happy.gif', 'subject07.noglasses.gif', 'subject08.centerlight.gif', 'subject06.centerlight.gif', 'subject03.sad.gif', 'subject03.happy.gif', 'subject06.sad.gif', 'subject08.leftlight.gif', 'subject09.surprised.gif', 'subject02.normal.gif', 'subject06.glasses.gif', 'subject11.normal.gif', 'subject01.rightlight.gif', 'subject03.noglasses.gif', 'subject08.noglasses.gif', 'subject15.centerlight.gif', 'subject14.glasses.gif', 'subject14.surprised.gif', 'subject03.centerlight.gif', 'subject12.leftlight.gif', 'subject14.rightlight.gif', 'subject07.sleepy.gif', 'subject01.leftlight.gif', 'subject05.rightlight.gif', 'subject06.normal.gif', 'subject09.glasses.gif', 'subject09.centerlight.gif', 'subject02.surprised.gif', 'subject06.noglasses.gif', 'subject04.noglasses.gif', 'subject08.surprised.gif', 'subject15.leftlight.gif', 'subject11.sad.gif', 'subject04.glasses.gif', 'subject14.leftlight.gif', 'subject13.leftlight.gif', 'subject12.centerlight.gif', 'subject04.wink.gif', 'subject06.rightlight.gif', 'subject02.happy.gif']\n"
          ]
        }
      ]
    },
    {
      "cell_type": "code",
      "source": [
        "def get_image_data():\n",
        "  paths = [os.path.join('/content/yalefaces/train',f) for f in os.listdir('/content/yalefaces/train')]\n",
        "\n",
        "  faces = []\n",
        "  ids = []\n",
        "  for path in paths:\n",
        "    image = Image.open(path).convert('L')#L means single channel image (grayscale)/ convert color to grayscale\n",
        "    image_np = np.array(image,'uint8') # convert image into numpy array\n",
        "    id = int(os.path.split(path)[1].split('.')[0].replace('subject','')) # get the id of the image  from path\n",
        "    ids.append(id)\n",
        "    faces.append(image_np)\n",
        "  return np.array(ids),faces\n",
        "\n",
        "\n"
      ],
      "metadata": {
        "id": "1_MhW9YDo8cg"
      },
      "execution_count": null,
      "outputs": []
    },
    {
      "cell_type": "code",
      "source": [
        " ids, faces = get_image_data()"
      ],
      "metadata": {
        "id": "aVYouye7p-Bh"
      },
      "execution_count": null,
      "outputs": []
    },
    {
      "cell_type": "markdown",
      "source": [
        "Training LBPH classifier\n"
      ],
      "metadata": {
        "id": "95mI5MjZvCpA"
      }
    },
    {
      "cell_type": "markdown",
      "source": [
        "Training parameter for LBPH\n",
        "1.Radius = 1 (default)\n",
        "2.neighbors : 8\n",
        "3.grid_x,grid_y -no of cells vertically and horizontally (8,8) i.e 64 histograms will be there\n",
        "\n",
        "4.threshold"
      ],
      "metadata": {
        "id": "d3uG2ztA1-GD"
      }
    },
    {
      "cell_type": "code",
      "source": [
        "\n",
        "lbph_classfier = cv2.face.LBPHFaceRecognizer_create(radius=4,neighbors = 14,grid_x =10,grid_y=10)\n",
        "lbph_classfier.train(faces,ids)\n",
        "lbph_classfier.write('lbph_classifier.yml')"
      ],
      "metadata": {
        "id": "sLf-kJa7vLoo"
      },
      "execution_count": null,
      "outputs": []
    },
    {
      "cell_type": "code",
      "source": [
        ""
      ],
      "metadata": {
        "id": "DUQdcoEw7sIq"
      },
      "execution_count": null,
      "outputs": []
    },
    {
      "cell_type": "markdown",
      "source": [
        "Recognizing faces"
      ],
      "metadata": {
        "id": "B3gJIa1nwH_H"
      }
    },
    {
      "cell_type": "code",
      "source": [
        "lbph_face_classifier = cv2.face.LBPHFaceRecognizer_create()\n",
        "lbph_face_classifier.read('/content/lbph_classifier.yml')"
      ],
      "metadata": {
        "id": "LduL3ziawK5z"
      },
      "execution_count": null,
      "outputs": []
    },
    {
      "cell_type": "code",
      "source": [
        "test_image = '/content/yalefaces/test/subject03.glasses.gif'\n",
        "image = Image.open(test_image).convert('L')\n",
        "image_np = np.array(image,'uint8')\n",
        "\n",
        "prediction = lbph_face_classifier.predict(image_np)\n",
        "print(prediction)"
      ],
      "metadata": {
        "colab": {
          "base_uri": "https://localhost:8080/"
        },
        "id": "Qumce1REunD9",
        "outputId": "52435513-b591-49ec-ac4a-551375a9d3e2"
      },
      "execution_count": null,
      "outputs": [
        {
          "output_type": "stream",
          "name": "stdout",
          "text": [
            "(3, 74.75140639960365)\n"
          ]
        }
      ]
    },
    {
      "cell_type": "code",
      "source": [
        "expected_output = int(os.path.split(test_image)[1].split('.')[0].replace('subject',''))\n",
        "print(expected_output)"
      ],
      "metadata": {
        "colab": {
          "base_uri": "https://localhost:8080/"
        },
        "id": "ngdEoIBExMcq",
        "outputId": "8d62641a-9048-4389-84e1-95f2622fa17a"
      },
      "execution_count": null,
      "outputs": [
        {
          "output_type": "stream",
          "name": "stdout",
          "text": [
            "3\n"
          ]
        }
      ]
    },
    {
      "cell_type": "code",
      "source": [
        "cv2.putText(image_np, 'Pred :' +str(prediction[0]),(10,30),cv2.FONT_HERSHEY_COMPLEX,1,(0,255,0))\n",
        "cv2.putText(image_np, 'Exp :' +str(expected_output),(10,60),cv2.FONT_HERSHEY_COMPLEX,1,(0,255,0))\n",
        "\n",
        "cv2_imshow(image_np)"
      ],
      "metadata": {
        "colab": {
          "base_uri": "https://localhost:8080/",
          "height": 260
        },
        "id": "AauPt0xBxcEC",
        "outputId": "ddbc1620-5331-4f22-8e48-51320a5b28ad"
      },
      "execution_count": null,
      "outputs": [
        {
          "output_type": "display_data",
          "data": {
            "image/png": "[encoded data removed]",
            "text/plain": [
              "<PIL.Image.Image image mode=L size=320x243 at 0x7FB7FE15E650>"
            ]
          },
          "metadata": {}
        }
      ]
    },
    {
      "cell_type": "markdown",
      "source": [
        "Evaluating the face classifier"
      ],
      "metadata": {
        "id": "hamW45W0ytNp"
      }
    },
    {
      "cell_type": "code",
      "source": [
        "paths = [os.path.join('/content/yalefaces/test',f) for f in os.listdir('/content/yalefaces/test')]\n",
        "predictions = []\n",
        "expected_outputs = []\n",
        "\n",
        "for path in paths:\n",
        "  image = Image.open(path).convert(\"L\")\n",
        "  image_np = np.array(image,'uint8')\n",
        "  prediction, _ = lbph_face_classifier.predict(image_np)\n",
        "  expected_output = int(os.path.split(path)[1].split('.')[0].replace('subject',''))\n",
        "  predictions.append(prediction)\n",
        "  expected_outputs.append(expected_output)"
      ],
      "metadata": {
        "id": "lpQCe_owywfO"
      },
      "execution_count": null,
      "outputs": []
    },
    {
      "cell_type": "code",
      "source": [
        "predictions = np.array(predictions)\n",
        "expected_outputs = np.array(expected_outputs)"
      ],
      "metadata": {
        "id": "BklFpDfV0KRi"
      },
      "execution_count": null,
      "outputs": []
    },
    {
      "cell_type": "code",
      "source": [
        "from sklearn.metrics import accuracy_score\n",
        "accuracy_score(expected_outputs,predictions)"
      ],
      "metadata": {
        "colab": {
          "base_uri": "https://localhost:8080/"
        },
        "id": "KheGt33YysCF",
        "outputId": "6eb6e11b-69ce-4a58-8ce7-d2ec8349eb36"
      },
      "execution_count": null,
      "outputs": [
        {
          "output_type": "execute_result",
          "data": {
            "text/plain": [
              "0.7"
            ]
          },
          "metadata": {},
          "execution_count": 72
        }
      ]
    },
    {
      "cell_type": "code",
      "source": [
        "from sklearn.metrics import confusion_matrix\n",
        "import seaborn as sns\n",
        "sns.heatmap(confusion_matrix(expected_outputs,predictions),annot=True)"
      ],
      "metadata": {
        "colab": {
          "base_uri": "https://localhost:8080/",
          "height": 287
        },
        "id": "R8qJD91H03pz",
        "outputId": "04f71628-276a-4638-9b1f-db65980e98ba"
      },
      "execution_count": null,
      "outputs": [
        {
          "output_type": "execute_result",
          "data": {
            "text/plain": [
              "<matplotlib.axes._subplots.AxesSubplot at 0x7fb7fd9a1690>"
            ]
          },
          "metadata": {},
          "execution_count": 73
        },
        {
          "output_type": "display_data",
          "data": {
            "image/png": "[encoded data removed]",
            "text/plain": [
              "<Figure size 432x288 with 2 Axes>"
            ]
          },
          "metadata": {
            "needs_background": "light"
          }
        }
      ]
    }
  ]
}